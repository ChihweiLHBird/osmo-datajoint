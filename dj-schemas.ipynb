{
 "cells": [
  {
   "cell_type": "code",
   "execution_count": 1,
   "metadata": {
    "tags": []
   },
   "outputs": [
    {
     "output_type": "stream",
     "name": "stdout",
     "text": "Unverified plugin `datajoint_connection_hub` detected.\n"
    }
   ],
   "source": [
    "import datajoint as dj\n",
    "import pandas as pd\n",
    "import pyrfume\n",
    "from pyrfume import datajoint_tools as djt"
   ]
  },
  {
   "cell_type": "code",
   "execution_count": 2,
   "metadata": {},
   "outputs": [],
   "source": [
    "# Uncomment and fill if your credentials are not stored in a local `dj_local_conf.json` file.\n",
    "dj.config['database.host'] = 'hub://djhub.io/iconlab/osmonauts'\n",
    "#dj.config['database.user'] = \"rick\"\n",
    "#dj.config.save_local()"
   ]
  },
  {
   "cell_type": "code",
   "execution_count": 3,
   "metadata": {
    "tags": []
   },
   "outputs": [
    {
     "output_type": "stream",
     "name": "stdout",
     "text": "Connecting zhiwei@djhub-hosting-asu-001.cda95qzjbnvs.us-east-1.rds.amazonaws.com:3306\n"
    }
   ],
   "source": [
    "# Drop the old schema (careful!) and create a new one to start fresh\n",
    "for i in range(2):\n",
    "    schema = dj.schema('u_%s_odorants' % dj.config['database.user'], locals())\n",
    "    if i==0:\n",
    "        schema.drop()"
   ]
  },
  {
   "cell_type": "code",
   "execution_count": 4,
   "metadata": {
    "tags": []
   },
   "outputs": [],
   "source": [
    "from pyrfume.odorants import *\n",
    "Molecule, Vendor, ChemicalOrder, Compound\n",
    "for cls in [Molecule, Vendor, ChemicalOrder, Compound]:\n",
    "    locals()[cls.__name__] = djt.schematize(cls, schema)"
   ]
  },
  {
   "cell_type": "code",
   "execution_count": 5,
   "metadata": {},
   "outputs": [
    {
     "output_type": "execute_result",
     "data": {
      "text/plain": "{'ChemicalOrder': pyrfume.odorants.ChemicalOrder,\n 'Compound': pyrfume.odorants.Compound,\n 'HTTPError': urllib.error.HTTPError,\n 'Molecule': pyrfume.odorants.Molecule,\n 'OrderedDict': collections.OrderedDict,\n 'Solution': pyrfume.odorants.Solution,\n 'Vendor': pyrfume.odorants.Vendor,\n 'datetime': datetime.datetime,\n 'tqdm': tqdm.asyncio.tqdm_asyncio}"
     },
     "metadata": {},
     "execution_count": 5
    }
   ],
   "source": [
    "from pyrfume.datajoint_tools import import_classes\n",
    "import_classes('pyrfume.odorants')"
   ]
  },
  {
   "cell_type": "code",
   "execution_count": 6,
   "metadata": {},
   "outputs": [
    {
     "output_type": "execute_result",
     "data": {
      "text/plain": "<function isinstance(obj, class_or_tuple, /)>"
     },
     "metadata": {},
     "execution_count": 6
    }
   ],
   "source": [
    "isinstance"
   ]
  },
  {
   "cell_type": "code",
   "execution_count": null,
   "metadata": {},
   "outputs": [],
   "source": [
    "dj.ERD(schema).draw()"
   ]
  },
  {
   "cell_type": "code",
   "execution_count": 7,
   "metadata": {},
   "outputs": [
    {
     "output_type": "execute_result",
     "data": {
      "text/plain": "    id   cid cas     name synonyms    iupac  density  vapor_pressure  \\\n0    1  6334      propane           propane      NaN             NaN   \n1    2  6334      propane           propane      NaN             NaN   \n2    3  6334      propane           propane      NaN             NaN   \n3    4  6334      propane           propane      NaN             NaN   \n4    5  6334      propane           propane      NaN             NaN   \n5    6  6334      propane           propane      NaN             NaN   \n6    7  6334      propane           propane      NaN             NaN   \n7    8  6334      propane           propane      NaN             NaN   \n8    9  6334      propane           propane      NaN             NaN   \n9   10  6334      propane           propane      NaN             NaN   \n10  11  6334      propane           propane      NaN             NaN   \n11  12  6334      propane           propane      NaN             NaN   \n\n    molecular_weight  \n0                NaN  \n1                NaN  \n2                NaN  \n3                NaN  \n4                NaN  \n5                NaN  \n6                NaN  \n7                NaN  \n8                NaN  \n9                NaN  \n10               NaN  \n11               NaN  ",
      "text/html": "<div>\n<style scoped>\n    .dataframe tbody tr th:only-of-type {\n        vertical-align: middle;\n    }\n\n    .dataframe tbody tr th {\n        vertical-align: top;\n    }\n\n    .dataframe thead th {\n        text-align: right;\n    }\n</style>\n<table border=\"1\" class=\"dataframe\">\n  <thead>\n    <tr style=\"text-align: right;\">\n      <th></th>\n      <th>id</th>\n      <th>cid</th>\n      <th>cas</th>\n      <th>name</th>\n      <th>synonyms</th>\n      <th>iupac</th>\n      <th>density</th>\n      <th>vapor_pressure</th>\n      <th>molecular_weight</th>\n    </tr>\n  </thead>\n  <tbody>\n    <tr>\n      <th>0</th>\n      <td>1</td>\n      <td>6334</td>\n      <td></td>\n      <td>propane</td>\n      <td></td>\n      <td>propane</td>\n      <td>NaN</td>\n      <td>NaN</td>\n      <td>NaN</td>\n    </tr>\n    <tr>\n      <th>1</th>\n      <td>2</td>\n      <td>6334</td>\n      <td></td>\n      <td>propane</td>\n      <td></td>\n      <td>propane</td>\n      <td>NaN</td>\n      <td>NaN</td>\n      <td>NaN</td>\n    </tr>\n    <tr>\n      <th>2</th>\n      <td>3</td>\n      <td>6334</td>\n      <td></td>\n      <td>propane</td>\n      <td></td>\n      <td>propane</td>\n      <td>NaN</td>\n      <td>NaN</td>\n      <td>NaN</td>\n    </tr>\n    <tr>\n      <th>3</th>\n      <td>4</td>\n      <td>6334</td>\n      <td></td>\n      <td>propane</td>\n      <td></td>\n      <td>propane</td>\n      <td>NaN</td>\n      <td>NaN</td>\n      <td>NaN</td>\n    </tr>\n    <tr>\n      <th>4</th>\n      <td>5</td>\n      <td>6334</td>\n      <td></td>\n      <td>propane</td>\n      <td></td>\n      <td>propane</td>\n      <td>NaN</td>\n      <td>NaN</td>\n      <td>NaN</td>\n    </tr>\n    <tr>\n      <th>5</th>\n      <td>6</td>\n      <td>6334</td>\n      <td></td>\n      <td>propane</td>\n      <td></td>\n      <td>propane</td>\n      <td>NaN</td>\n      <td>NaN</td>\n      <td>NaN</td>\n    </tr>\n    <tr>\n      <th>6</th>\n      <td>7</td>\n      <td>6334</td>\n      <td></td>\n      <td>propane</td>\n      <td></td>\n      <td>propane</td>\n      <td>NaN</td>\n      <td>NaN</td>\n      <td>NaN</td>\n    </tr>\n    <tr>\n      <th>7</th>\n      <td>8</td>\n      <td>6334</td>\n      <td></td>\n      <td>propane</td>\n      <td></td>\n      <td>propane</td>\n      <td>NaN</td>\n      <td>NaN</td>\n      <td>NaN</td>\n    </tr>\n    <tr>\n      <th>8</th>\n      <td>9</td>\n      <td>6334</td>\n      <td></td>\n      <td>propane</td>\n      <td></td>\n      <td>propane</td>\n      <td>NaN</td>\n      <td>NaN</td>\n      <td>NaN</td>\n    </tr>\n    <tr>\n      <th>9</th>\n      <td>10</td>\n      <td>6334</td>\n      <td></td>\n      <td>propane</td>\n      <td></td>\n      <td>propane</td>\n      <td>NaN</td>\n      <td>NaN</td>\n      <td>NaN</td>\n    </tr>\n    <tr>\n      <th>10</th>\n      <td>11</td>\n      <td>6334</td>\n      <td></td>\n      <td>propane</td>\n      <td></td>\n      <td>propane</td>\n      <td>NaN</td>\n      <td>NaN</td>\n      <td>NaN</td>\n    </tr>\n    <tr>\n      <th>11</th>\n      <td>12</td>\n      <td>6334</td>\n      <td></td>\n      <td>propane</td>\n      <td></td>\n      <td>propane</td>\n      <td>NaN</td>\n      <td>NaN</td>\n      <td>NaN</td>\n    </tr>\n  </tbody>\n</table>\n</div>"
     },
     "metadata": {},
     "execution_count": 7
    }
   ],
   "source": [
    "m = Molecule()\n",
    "m.insert1({'cid': 6334, 'cas': '', 'name': 'propane', 'iupac': 'propane', 'synonyms': ''})\n",
    "pd.DataFrame(m.fetch())"
   ]
  },
  {
   "cell_type": "code",
   "execution_count": null,
   "metadata": {},
   "outputs": [],
   "source": []
  }
 ],
 "metadata": {
  "kernelspec": {
   "display_name": "Python 3",
   "language": "python",
   "name": "python3"
  },
  "language_info": {
   "codemirror_mode": {
    "name": "ipython",
    "version": 3
   },
   "file_extension": ".py",
   "mimetype": "text/x-python",
   "name": "python",
   "nbconvert_exporter": "python",
   "pygments_lexer": "ipython3",
   "version": "3.8.6-candidate"
  }
 },
 "nbformat": 4,
 "nbformat_minor": 4
}