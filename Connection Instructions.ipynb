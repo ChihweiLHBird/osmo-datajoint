{
 "cells": [
  {
   "cell_type": "code",
   "execution_count": 1,
   "metadata": {
    "collapsed": true,
    "jupyter": {
     "outputs_hidden": true
    }
   },
   "outputs": [
    {
     "name": "stdout",
     "output_type": "stream",
     "text": [
     ]
    }
   ],
   "source": [
    "!pip install --user --upgrade datajoint==0.12.5b1\n",
    "!pip install --user datajoint_connection_hub"
   ]
  },
  {
   "cell_type": "code",
   "execution_count": 2,
   "metadata": {},
   "outputs": [
    {
     "name": "stdout",
     "output_type": "stream",
     "text": [
      "DataJoint verified plugin `datajoint_connection_hub` detected.\n"
     ]
    }
   ],
   "source": [
    "import datajoint as dj"
   ]
  },
  {
   "cell_type": "code",
   "execution_count": 3,
   "metadata": {},
   "outputs": [],
   "source": [
    "assert dj.__version__ == '0.12.5b1' # Should be this version in order for all instructions to work"
   ]
  },
  {
   "cell_type": "code",
   "execution_count": 4,
   "metadata": {},
   "outputs": [],
   "source": [
    "dj.config['database.host'] = 'hub://djhub.io/asu/ICON'  # This is going to be changed soon to 'hub://djhub.io/iconlab/osmonauts'\n",
    "dj.config['database.user'] = \"YOUR_USER_NAME\"  # Message Rick Gerkin on Slack to get one\n",
    "dj.config['database.password'] = \"YOUR_PASSWORD\"  # Ditto, then change it"
   ]
  },
  {
   "cell_type": "code",
   "execution_count": 5,
   "metadata": {},
   "outputs": [],
   "source": [
    "dj.config.save_local() # Save your local configuration so you won't need the above again."
   ]
  },
  {
   "cell_type": "code",
   "execution_count": 6,
   "metadata": {},
   "outputs": [
    {
     "name": "stdout",
     "output_type": "stream",
     "text": [
      "Connecting u_rick@djhub-hosting-asu-001.cda95qzjbnvs.us-east-1.rds.amazonaws.com:3306\n"
     ]
    },
    {
     "name": "stdin",
     "output_type": "stream",
     "text": [
      "New password:  ···········\n",
      "Confirm password:  ···········\n"
     ]
    },
    {
     "name": "stdout",
     "output_type": "stream",
     "text": [
      "Password updated.\n"
     ]
    },
    {
     "name": "stdin",
     "output_type": "stream",
     "text": [
      "Update local setting? [yes, no]:  yes\n"
     ]
    },
    {
     "name": "stdout",
     "output_type": "stream",
     "text": [
      "Saved settings in dj_local_conf.json\n"
     ]
    }
   ],
   "source": [
    "dj.set_password() # Change your password; if the connector plugin in datajoint_connection_hub is working,\n",
    "                  # this will give you a change password prompt"
   ]
  }
 ],
 "metadata": {
  "kernelspec": {
   "display_name": "Python 3",
   "language": "python",
   "name": "python3"
  },
  "language_info": {
   "codemirror_mode": {
    "name": "ipython",
    "version": 3
   },
   "file_extension": ".py",
   "mimetype": "text/x-python",
   "name": "python",
   "nbconvert_exporter": "python",
   "pygments_lexer": "ipython3",
   "version": "3.7.4"
  }
 },
 "nbformat": 4,
 "nbformat_minor": 4
}
